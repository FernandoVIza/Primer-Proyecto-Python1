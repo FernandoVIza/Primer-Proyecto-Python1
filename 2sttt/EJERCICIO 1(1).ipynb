{
 "cells": [
  {
   "cell_type": "markdown",
   "metadata": {},
   "source": [
    "<center> <h1>Universidad Nacional de San Agustín de Arequipa</h1> </center> \n",
    "<center> <h1>Escuela Profesional de Ingeniería de Telecomunicaciones</h1> </center> \n",
    "\n",
    "<center> <h1> </h1> </center> \n",
    "\n",
    "<center><img src=\"https://user-images.githubusercontent.com/19308295/115939517-f1c6fe80-a463-11eb-989c-812ab4942586.png\" width=\"380\" height=\"4200\"></center>"
   ]
  },
  {
   "cell_type": "markdown",
   "metadata": {},
   "source": [
    "<center> <h2>Ingeniero Renzo Bolivar - Docente DAIE</h2> </center> "
   ]
  },
  {
   "cell_type": "markdown",
   "metadata": {},
   "source": [
    "<center> <h1>Curso : Computación 2</h1> </center>\n",
    "\n",
    "# <center>Grupo A-7\n",
    "# <center>Viza Zapana Bryan Fernando"
   ]
  },
  {
   "cell_type": "markdown",
   "metadata": {},
   "source": [
    "![linea 1](https://user-images.githubusercontent.com/19308295/115926252-2b8a0c00-a448-11eb-9d9c-b43beaf0ff68.png)"
   ]
  },
  {
   "cell_type": "markdown",
   "metadata": {},
   "source": [
    "<center> <h1>NUMPY</h1> </center> "
   ]
  },
  {
   "cell_type": "markdown",
   "metadata": {},
   "source": [
    "![linea 1](https://user-images.githubusercontent.com/19308295/115926252-2b8a0c00-a448-11eb-9d9c-b43beaf0ff68.png)"
   ]
  },
  {
   "cell_type": "markdown",
   "metadata": {},
   "source": [
    "# Descripción:"
   ]
  },
  {
   "cell_type": "markdown",
   "metadata": {},
   "source": [
    "En este notebook se explicarán _NumPy_ la librería de cálculo numérico uno de los paquetes centrales para la computación numérica en Python."
   ]
  },
  {
   "cell_type": "markdown",
   "metadata": {},
   "source": [
    "# Objetivos:\n",
    "\n",
    "\n",
    " 1. Familiarizarce con las matrices en NumPy\n",
    " 2. Creación de matrices en Numpy\n",
    " 3. Comprobar la facilidad de uso en NumPy"
   ]
  },
  {
   "cell_type": "markdown",
   "metadata": {},
   "source": [
    "# Contenido:"
   ]
  },
  {
   "cell_type": "markdown",
   "metadata": {},
   "source": [
    "[1. Numpy: Librería de cálculo numérico](#1.-Numpy:-Librería-de-cálculo-numérico)<br>\n",
    "[2. Numpy: Funciones básicas](#2.-Numpy:-Funciones-básicas)<br>\n",
    "[3. Inspeccionar matrices de NumPy](#3.-Inspeccionar-matrices-de-NumPy)<br>\n",
    "[4. Operaciones Matemáticas entre matrices de NumPy](#4.-Operaciones-Matemáticas-entre-matrices-de-NumPy)<br>\n",
    "\n",
    "[EJEMPLOS](#EJEMPLOS)<br>\n",
    "[EJERCICIOS](#EJERCICIOS)<br>\n",
    "[BIBLIOGRAFÍA](#BIBLIOGRAFÍA)<br>"
   ]
  },
  {
   "cell_type": "markdown",
   "metadata": {},
   "source": [
    "![linea 1](https://user-images.githubusercontent.com/19308295/115926252-2b8a0c00-a448-11eb-9d9c-b43beaf0ff68.png)"
   ]
  },
  {
   "cell_type": "markdown",
   "metadata": {},
   "source": [
    "## <font color=#33A5FF>****1. Numpy: Librería de cálculo numérico****<tfont>"
   ]
  },
  {
   "cell_type": "markdown",
   "metadata": {},
   "source": [
    "<img src=\"https://user-images.githubusercontent.com/19308295/115939595-32bf1300-a464-11eb-8c50-6f05dce9a805.png\"\n",
    "    style=\"width:300px; float: right; margin: 0 40px 40px 40px;\"></img>\n",
    "\n",
    "NumPy (Numerical Python) es uno de los paquetes centrales para la computación numérica en Python. Pandas, Matplotlib, Statmodels y muchas otras librerías científicas dependen de NumPy.\n",
    "\n",
    "Las principales contribuciones de NumPy son:\n",
    "\n",
    "* Computación numérica eficiente con código \"C\"\n",
    "* Recopilaciones eficientes con operaciones vectoriales\n",
    "* Un Aplicativo (API) de álgebra lineal integrada y natural\n",
    "* Un Aplicativo (API) en C para conectar NumPy con librerías escritas en C, C++ o FORTRAN.\n",
    "\n",
    "Desarrollemos la eficiencia. En Python, **todo es un objeto**, lo que significa que incluso los simples __enteros (int)__ son también objetos, con toda la maquinaria necesaria para hacer que el objeto funcione. Los llamamos \"Boxed Ints\". En cambio, `NumPy` utiliza tipos numéricos primitivos (floats, ints) que hacen que el almacenamiento y el cálculo sean eficientes.\n"
   ]
  },
  {
   "cell_type": "markdown",
   "metadata": {},
   "source": [
    "![Python Boxed Ints vs C and Numpy](https://user-images.githubusercontent.com/19308295/115942212-b2ea7600-a46e-11eb-86ed-d7cdc9dffbe0.png)"
   ]
  },
  {
   "cell_type": "markdown",
   "metadata": {},
   "source": [
    "\n",
    "<img src=\"https://user-images.githubusercontent.com/19308295/115942590-98b19780-a470-11eb-84b0-a6390e928eb3.png\"\n",
    "    style=\"width:700px\"></img>"
   ]
  },
  {
   "cell_type": "markdown",
   "metadata": {},
   "source": [
    "\n",
    "<div class=\"well\">\n",
    "\n",
    "<strong>Utilización de NumPy:</strong>\n",
    "    \n",
    "* En Matemáticas (Reemplaza al MATLAB)\n",
    "* Genera Gráficos a partir de Matrices Numpy \n",
    "* Backend (Pandas, Connect 4 Games, Fotografía Digital)\n",
    "* Machine Learning.\n",
    "    \n",
    "</div>"
   ]
  },
  {
   "cell_type": "markdown",
   "metadata": {},
   "source": [
    "<div class=\"well\">\n",
    "\n",
    "<strong>NumPy Array o el arreglo de matrices de NumPy</strong> es un potente objeto de matriz N-dimensional que tiene forma de filas y columnas, en la que tenemos varios elementos que están almacenados en sus respectivas ubicaciones de memoria. \n",
    "    \n",
    "En la siguiente imagen, es una <strong>matriz bidimensiona</strong>l porque tiene filas y columnas, como puedes ver tiene cuatro filas y tres columnas, por lo que se convierte en una matriz bidimensional. En el caso de que solo tuviera una fila entonces habría sido una matriz unidimensional.\n",
    "    \n",
    "</div>"
   ]
  },
  {
   "cell_type": "markdown",
   "metadata": {},
   "source": [
    "![Practica_04](https://user-images.githubusercontent.com/19308295/115941133-c8a96c80-a469-11eb-8e21-117c1e84bf69.png)"
   ]
  },
  {
   "cell_type": "markdown",
   "metadata": {},
   "source": [
    "![linea 2](https://user-images.githubusercontent.com/19308295/115926262-2fb62980-a448-11eb-8189-c2f10e499944.png)"
   ]
  },
  {
   "cell_type": "markdown",
   "metadata": {},
   "source": [
    "## <font color=#33A5FF>****EJERCICIOS****<tfont>"
   ]
  },
  {
   "cell_type": "markdown",
   "metadata": {},
   "source": [
    "<center> <h2>Ejercicio 01</h2> </center> "
   ]
  },
  {
   "cell_type": "markdown",
   "metadata": {},
   "source": [
    "* Crear un array 7x8 lleno de ceros de tipo entero.\n",
    "* Crear un array 7x8 lleno de ceros salvo la primera fila que serán todo unos.\n",
    "* Crear un array 7x8 lleno de ceros salvo la última fila que será el rango entre 5 y 8."
   ]
  },
  {
   "cell_type": "code",
   "execution_count": 2,
   "metadata": {
    "scrolled": true
   },
   "outputs": [
    {
     "name": "stdout",
     "output_type": "stream",
     "text": [
      "Array 7x8 lleno de ceros de tipo entero:\n",
      "[[0 0 0 0 0 0 0 0]\n",
      " [0 0 0 0 0 0 0 0]\n",
      " [0 0 0 0 0 0 0 0]\n",
      " [0 0 0 0 0 0 0 0]\n",
      " [0 0 0 0 0 0 0 0]\n",
      " [0 0 0 0 0 0 0 0]\n",
      " [0 0 0 0 0 0 0 0]]\n"
     ]
    }
   ],
   "source": [
    "import numpy as np\n",
    "# 01: Crear un array 7x8 lleno de ceros de tipo entero\n",
    "array_ceros = np.zeros((7, 8), dtype=int)\n",
    "print(\"Array 7x8 lleno de ceros de tipo entero:\")\n",
    "print(array_ceros)"
   ]
  },
  {
   "cell_type": "code",
   "execution_count": 3,
   "metadata": {},
   "outputs": [
    {
     "name": "stdout",
     "output_type": "stream",
     "text": [
      "\n",
      "Array 7x8 lleno de ceros salvo la primera fila que serán todo unos:\n",
      "[[1 1 1 1 1 1 1 1]\n",
      " [0 0 0 0 0 0 0 0]\n",
      " [0 0 0 0 0 0 0 0]\n",
      " [0 0 0 0 0 0 0 0]\n",
      " [0 0 0 0 0 0 0 0]\n",
      " [0 0 0 0 0 0 0 0]\n",
      " [0 0 0 0 0 0 0 0]]\n"
     ]
    }
   ],
   "source": [
    "# 02: Crear un array 7x8 lleno de ceros salvo la primera fila que serán todo unos\n",
    "array_ceros_primera_fila_unos = np.zeros((7, 8), dtype=int)\n",
    "array_ceros_primera_fila_unos[0, :] = 1\n",
    "print(\"\\nArray 7x8 lleno de ceros salvo la primera fila que serán todo unos:\")\n",
    "print(array_ceros_primera_fila_unos)"
   ]
  },
  {
   "cell_type": "code",
   "execution_count": 4,
   "metadata": {},
   "outputs": [
    {
     "name": "stdout",
     "output_type": "stream",
     "text": [
      "\n",
      "Array 7x8 lleno de ceros salvo la última fila que será el rango entre 5 y 12:\n",
      "[[ 0  0  0  0  0  0  0  0]\n",
      " [ 0  0  0  0  0  0  0  0]\n",
      " [ 0  0  0  0  0  0  0  0]\n",
      " [ 0  0  0  0  0  0  0  0]\n",
      " [ 0  0  0  0  0  0  0  0]\n",
      " [ 0  0  0  0  0  0  0  0]\n",
      " [ 5  6  7  8  9 10 11 12]]\n"
     ]
    }
   ],
   "source": [
    "# 03: Crear un array 7x8 lleno de ceros salvo la última fila que será el rango entre 5 y 12\n",
    "array_ceros_ultima_fila_rango = np.zeros((7, 8), dtype=int)\n",
    "array_ceros_ultima_fila_rango[-1, :] = np.arange(5, 13)\n",
    "print(\"\\nArray 7x8 lleno de ceros salvo la última fila que será el rango entre 5 y 12:\")\n",
    "print(array_ceros_ultima_fila_rango)"
   ]
  },
  {
   "cell_type": "markdown",
   "metadata": {},
   "source": [
    "![linea 2](https://user-images.githubusercontent.com/19308295/115926262-2fb62980-a448-11eb-8189-c2f10e499944.png)"
   ]
  },
  {
   "cell_type": "markdown",
   "metadata": {},
   "source": [
    "## <font color=#33A5FF>****BIBLIOGRAFÍA****<tfont>"
   ]
  },
  {
   "cell_type": "markdown",
   "metadata": {},
   "source": [
    "[1] Documentación de NumPy http://docs.scipy.org/doc/numpy\n",
    "\n",
    "[2] Travis Oliphant, \"Guide to NumPy\" http://csc.ucdavis.edu/~chaos/courses/nlp/Software/NumPyBook.pdf\n",
    "\n",
    "[3] SciPy Lecture Notes http://scipy-lectures.github.io\n",
    "\n",
    "[4] Nicolas Rougier, \"100 NumPy exercises\" http://www.loria.fr/~rougier/teaching/numpy.100/index.html"
   ]
  },
  {
   "cell_type": "markdown",
   "metadata": {},
   "source": [
    "![linea 1](https://user-images.githubusercontent.com/19308295/115926252-2b8a0c00-a448-11eb-9d9c-b43beaf0ff68.png)"
   ]
  }
 ],
 "metadata": {
  "kernelspec": {
   "display_name": "Python 3 (ipykernel)",
   "language": "python",
   "name": "python3"
  },
  "language_info": {
   "codemirror_mode": {
    "name": "ipython",
    "version": 3
   },
   "file_extension": ".py",
   "mimetype": "text/x-python",
   "name": "python",
   "nbconvert_exporter": "python",
   "pygments_lexer": "ipython3",
   "version": "3.11.7"
  }
 },
 "nbformat": 4,
 "nbformat_minor": 4
}
